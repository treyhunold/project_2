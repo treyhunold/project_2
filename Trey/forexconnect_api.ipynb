{
 "cells": [
  {
   "cell_type": "code",
   "execution_count": 2,
   "metadata": {},
   "outputs": [
    {
     "name": "stdout",
     "output_type": "stream",
     "text": [
      "Collecting forexconnect\n",
      "  Downloading forexconnect-1.6.3-cp37-cp37m-macosx_10_9_x86_64.whl (7.9 MB)\n",
      "\u001b[K     |████████████████████████████████| 7.9 MB 16.3 MB/s eta 0:00:01\n",
      "\u001b[?25hInstalling collected packages: forexconnect\n",
      "Successfully installed forexconnect-1.6.3\n"
     ]
    }
   ],
   "source": [
    "!pip install forexconnect"
   ]
  },
  {
   "cell_type": "code",
   "execution_count": 6,
   "metadata": {},
   "outputs": [
    {
     "name": "stdout",
     "output_type": "stream",
     "text": [
      "Requirement already satisfied: forexconnect in /Users/treyhunold/opt/anaconda3/lib/python3.7/site-packages (1.6.3)\n",
      "Requirement already satisfied: wheel in /Users/treyhunold/opt/anaconda3/lib/python3.7/site-packages (0.34.2)\n",
      "Collecting file\n",
      "  Downloading file-0.3.0.tar.gz (15 kB)\n",
      "\u001b[31mERROR: Could not find a version that satisfies the requirement name (from versions: none)\u001b[0m\n",
      "\u001b[31mERROR: No matching distribution found for name\u001b[0m\n"
     ]
    }
   ],
   "source": [
    "!pip install forexconnect wheel file name"
   ]
  },
  {
   "cell_type": "code",
   "execution_count": 7,
   "metadata": {},
   "outputs": [
    {
     "ename": "ImportError",
     "evalue": "dlopen(/Users/treyhunold/opt/anaconda3/lib/python3.7/site-packages/forexconnect/lib/fxcorepy.so, 2): Library not loaded: /Library/Frameworks/Python.framework/Versions/3.7/Python\n  Referenced from: /Users/treyhunold/opt/anaconda3/lib/python3.7/site-packages/forexconnect/lib/fxcorepy.so\n  Reason: image not found",
     "output_type": "error",
     "traceback": [
      "\u001b[0;31m---------------------------------------------------------------------------\u001b[0m",
      "\u001b[0;31mImportError\u001b[0m                               Traceback (most recent call last)",
      "\u001b[0;32m<ipython-input-7-5ad19e32b6e2>\u001b[0m in \u001b[0;36m<module>\u001b[0;34m\u001b[0m\n\u001b[0;32m----> 1\u001b[0;31m \u001b[0;32mfrom\u001b[0m \u001b[0mforexconnect\u001b[0m \u001b[0;32mimport\u001b[0m \u001b[0mfxcorepy\u001b[0m\u001b[0;34m\u001b[0m\u001b[0;34m\u001b[0m\u001b[0m\n\u001b[0m",
      "\u001b[0;32m~/opt/anaconda3/lib/python3.7/site-packages/forexconnect/__init__.py\u001b[0m in \u001b[0;36m<module>\u001b[0;34m\u001b[0m\n\u001b[1;32m      6\u001b[0m \u001b[0mos\u001b[0m\u001b[0;34m.\u001b[0m\u001b[0mchdir\u001b[0m\u001b[0;34m(\u001b[0m\u001b[0mlib_path\u001b[0m\u001b[0;34m)\u001b[0m\u001b[0;34m\u001b[0m\u001b[0;34m\u001b[0m\u001b[0m\n\u001b[1;32m      7\u001b[0m \u001b[0;34m\u001b[0m\u001b[0m\n\u001b[0;32m----> 8\u001b[0;31m \u001b[0;32mfrom\u001b[0m \u001b[0mforexconnect\u001b[0m\u001b[0;34m.\u001b[0m\u001b[0mlib\u001b[0m \u001b[0;32mimport\u001b[0m \u001b[0mfxcorepy\u001b[0m\u001b[0;34m\u001b[0m\u001b[0;34m\u001b[0m\u001b[0m\n\u001b[0m\u001b[1;32m      9\u001b[0m \u001b[0;32mfrom\u001b[0m \u001b[0mforexconnect\u001b[0m\u001b[0;34m.\u001b[0m\u001b[0mForexConnect\u001b[0m \u001b[0;32mimport\u001b[0m \u001b[0mForexConnect\u001b[0m\u001b[0;34m\u001b[0m\u001b[0;34m\u001b[0m\u001b[0m\n\u001b[1;32m     10\u001b[0m \u001b[0;32mfrom\u001b[0m \u001b[0mforexconnect\u001b[0m\u001b[0;34m.\u001b[0m\u001b[0mTableManagerListener\u001b[0m \u001b[0;32mimport\u001b[0m \u001b[0mTableManagerListener\u001b[0m\u001b[0;34m\u001b[0m\u001b[0;34m\u001b[0m\u001b[0m\n",
      "\u001b[0;31mImportError\u001b[0m: dlopen(/Users/treyhunold/opt/anaconda3/lib/python3.7/site-packages/forexconnect/lib/fxcorepy.so, 2): Library not loaded: /Library/Frameworks/Python.framework/Versions/3.7/Python\n  Referenced from: /Users/treyhunold/opt/anaconda3/lib/python3.7/site-packages/forexconnect/lib/fxcorepy.so\n  Reason: image not found"
     ]
    }
   ],
   "source": [
    "from forexconnect import fxcorepy"
   ]
  },
  {
   "cell_type": "code",
   "execution_count": 8,
   "metadata": {},
   "outputs": [
    {
     "ename": "ImportError",
     "evalue": "dlopen(/Users/treyhunold/opt/anaconda3/lib/python3.7/site-packages/forexconnect/lib/fxcorepy.so, 2): Library not loaded: /Library/Frameworks/Python.framework/Versions/3.7/Python\n  Referenced from: /Users/treyhunold/opt/anaconda3/lib/python3.7/site-packages/forexconnect/lib/fxcorepy.so\n  Reason: image not found",
     "output_type": "error",
     "traceback": [
      "\u001b[0;31m---------------------------------------------------------------------------\u001b[0m",
      "\u001b[0;31mImportError\u001b[0m                               Traceback (most recent call last)",
      "\u001b[0;32m<ipython-input-8-c326b37cba52>\u001b[0m in \u001b[0;36m<module>\u001b[0;34m\u001b[0m\n\u001b[0;32m----> 1\u001b[0;31m \u001b[0;32mfrom\u001b[0m \u001b[0mforexconnect\u001b[0m \u001b[0;32mimport\u001b[0m \u001b[0mForexConnect\u001b[0m\u001b[0;34m,\u001b[0m \u001b[0mResponseListener\u001b[0m\u001b[0;34m,\u001b[0m \u001b[0mCommon\u001b[0m\u001b[0;34m\u001b[0m\u001b[0;34m\u001b[0m\u001b[0m\n\u001b[0m",
      "\u001b[0;32m~/opt/anaconda3/lib/python3.7/site-packages/forexconnect/__init__.py\u001b[0m in \u001b[0;36m<module>\u001b[0;34m\u001b[0m\n\u001b[1;32m      6\u001b[0m \u001b[0mos\u001b[0m\u001b[0;34m.\u001b[0m\u001b[0mchdir\u001b[0m\u001b[0;34m(\u001b[0m\u001b[0mlib_path\u001b[0m\u001b[0;34m)\u001b[0m\u001b[0;34m\u001b[0m\u001b[0;34m\u001b[0m\u001b[0m\n\u001b[1;32m      7\u001b[0m \u001b[0;34m\u001b[0m\u001b[0m\n\u001b[0;32m----> 8\u001b[0;31m \u001b[0;32mfrom\u001b[0m \u001b[0mforexconnect\u001b[0m\u001b[0;34m.\u001b[0m\u001b[0mlib\u001b[0m \u001b[0;32mimport\u001b[0m \u001b[0mfxcorepy\u001b[0m\u001b[0;34m\u001b[0m\u001b[0;34m\u001b[0m\u001b[0m\n\u001b[0m\u001b[1;32m      9\u001b[0m \u001b[0;32mfrom\u001b[0m \u001b[0mforexconnect\u001b[0m\u001b[0;34m.\u001b[0m\u001b[0mForexConnect\u001b[0m \u001b[0;32mimport\u001b[0m \u001b[0mForexConnect\u001b[0m\u001b[0;34m\u001b[0m\u001b[0;34m\u001b[0m\u001b[0m\n\u001b[1;32m     10\u001b[0m \u001b[0;32mfrom\u001b[0m \u001b[0mforexconnect\u001b[0m\u001b[0;34m.\u001b[0m\u001b[0mTableManagerListener\u001b[0m \u001b[0;32mimport\u001b[0m \u001b[0mTableManagerListener\u001b[0m\u001b[0;34m\u001b[0m\u001b[0;34m\u001b[0m\u001b[0m\n",
      "\u001b[0;31mImportError\u001b[0m: dlopen(/Users/treyhunold/opt/anaconda3/lib/python3.7/site-packages/forexconnect/lib/fxcorepy.so, 2): Library not loaded: /Library/Frameworks/Python.framework/Versions/3.7/Python\n  Referenced from: /Users/treyhunold/opt/anaconda3/lib/python3.7/site-packages/forexconnect/lib/fxcorepy.so\n  Reason: image not found"
     ]
    }
   ],
   "source": [
    "from forexconnect import ForexConnect, ResponseListener, Common"
   ]
  },
  {
   "cell_type": "code",
   "execution_count": null,
   "metadata": {},
   "outputs": [],
   "source": []
  }
 ],
 "metadata": {
  "kernelspec": {
   "display_name": "Python 3",
   "language": "python",
   "name": "python3"
  },
  "language_info": {
   "codemirror_mode": {
    "name": "ipython",
    "version": 3
   },
   "file_extension": ".py",
   "mimetype": "text/x-python",
   "name": "python",
   "nbconvert_exporter": "python",
   "pygments_lexer": "ipython3",
   "version": "3.7.4"
  }
 },
 "nbformat": 4,
 "nbformat_minor": 4
}
