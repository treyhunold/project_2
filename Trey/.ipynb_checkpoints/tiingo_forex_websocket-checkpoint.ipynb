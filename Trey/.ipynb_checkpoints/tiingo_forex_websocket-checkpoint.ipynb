{
 "cells": [
  {
   "cell_type": "code",
   "execution_count": 1,
   "metadata": {},
   "outputs": [
    {
     "ename": "SyntaxError",
     "evalue": "invalid syntax (<ipython-input-1-eb5b50c9cb81>, line 2)",
     "output_type": "error",
     "traceback": [
      "\u001b[0;36m  File \u001b[0;32m\"<ipython-input-1-eb5b50c9cb81>\"\u001b[0;36m, line \u001b[0;32m2\u001b[0m\n\u001b[0;31m    wss://api.tiingo.com/fx\u001b[0m\n\u001b[0m         ^\u001b[0m\n\u001b[0;31mSyntaxError\u001b[0m\u001b[0;31m:\u001b[0m invalid syntax\n"
     ]
    }
   ],
   "source": [
    "# Websocket Top-of-Book Endpoint\n",
    "wss://api.tiingo.com/fx"
   ]
  },
  {
   "cell_type": "code",
   "execution_count": 3,
   "metadata": {},
   "outputs": [
    {
     "name": "stdout",
     "output_type": "stream",
     "text": [
      "Collecting websocket\n",
      "  Downloading websocket-0.2.1.tar.gz (195 kB)\n",
      "\u001b[K     |████████████████████████████████| 195 kB 68 kB/s eta 0:00:01\n",
      "\u001b[?25hRequirement already satisfied: gevent in /Users/treyhunold/opt/anaconda3/lib/python3.7/site-packages (from websocket) (1.4.0)\n",
      "Requirement already satisfied: greenlet in /Users/treyhunold/opt/anaconda3/lib/python3.7/site-packages (from websocket) (0.4.15)\n",
      "Building wheels for collected packages: websocket\n",
      "  Building wheel for websocket (setup.py) ... \u001b[?25ldone\n",
      "\u001b[?25h  Created wheel for websocket: filename=websocket-0.2.1-py3-none-any.whl size=192134 sha256=db4940ccd9693d12acfd95847126398fa4a084805170ba7d4fa9fd7c9f808caa\n",
      "  Stored in directory: /Users/treyhunold/Library/Caches/pip/wheels/e2/9b/2b/6324f465ec5543e33a31c2692c01c1760173bbb98b37dbaee8\n",
      "Successfully built websocket\n",
      "Installing collected packages: websocket\n",
      "Successfully installed websocket-0.2.1\n"
     ]
    }
   ],
   "source": [
    "!pip install websocket"
   ]
  },
  {
   "cell_type": "code",
   "execution_count": 5,
   "metadata": {},
   "outputs": [
    {
     "name": "stdout",
     "output_type": "stream",
     "text": [
      "\u001b[31mERROR: Could not find a version that satisfies the requirement create_connection (from versions: none)\u001b[0m\n",
      "\u001b[31mERROR: No matching distribution found for create_connection\u001b[0m\n"
     ]
    }
   ],
   "source": [
    "!pip install create_connection"
   ]
  },
  {
   "cell_type": "code",
   "execution_count": 4,
   "metadata": {},
   "outputs": [
    {
     "ename": "ImportError",
     "evalue": "cannot import name 'create_connection' from 'websocket' (/Users/treyhunold/opt/anaconda3/lib/python3.7/site-packages/websocket/__init__.py)",
     "output_type": "error",
     "traceback": [
      "\u001b[0;31m---------------------------------------------------------------------------\u001b[0m",
      "\u001b[0;31mImportError\u001b[0m                               Traceback (most recent call last)",
      "\u001b[0;32m<ipython-input-4-9639fab56b12>\u001b[0m in \u001b[0;36m<module>\u001b[0;34m\u001b[0m\n\u001b[0;32m----> 1\u001b[0;31m \u001b[0;32mfrom\u001b[0m \u001b[0mwebsocket\u001b[0m \u001b[0;32mimport\u001b[0m \u001b[0mcreate_connection\u001b[0m\u001b[0;34m\u001b[0m\u001b[0;34m\u001b[0m\u001b[0m\n\u001b[0m\u001b[1;32m      2\u001b[0m \u001b[0;32mimport\u001b[0m \u001b[0msimplejson\u001b[0m \u001b[0;32mas\u001b[0m \u001b[0mjson\u001b[0m\u001b[0;34m\u001b[0m\u001b[0;34m\u001b[0m\u001b[0m\n\u001b[1;32m      3\u001b[0m \u001b[0mws\u001b[0m \u001b[0;34m=\u001b[0m \u001b[0mcreate_connection\u001b[0m\u001b[0;34m(\u001b[0m\u001b[0;34m\"wss://api.tiingo.com/fx\"\u001b[0m\u001b[0;34m)\u001b[0m\u001b[0;34m\u001b[0m\u001b[0;34m\u001b[0m\u001b[0m\n\u001b[1;32m      4\u001b[0m \u001b[0;34m\u001b[0m\u001b[0m\n\u001b[1;32m      5\u001b[0m subscribe = {\n",
      "\u001b[0;31mImportError\u001b[0m: cannot import name 'create_connection' from 'websocket' (/Users/treyhunold/opt/anaconda3/lib/python3.7/site-packages/websocket/__init__.py)"
     ]
    }
   ],
   "source": [
    "from websocket import create_connection\n",
    "import simplejson as json\n",
    "ws = create_connection(\"wss://api.tiingo.com/fx\")\n",
    "\n",
    "subscribe = {\n",
    "        'eventName':'subscribe',\n",
    "        'authorization':'N0373a7d102cbf2319f33d357a27213c1726c6fa1',\n",
    "        'eventData': {\n",
    "            'thresholdLevel': 5\n",
    "    }\n",
    "}\n",
    "\n",
    "ws.send(json.dumps(subscribe))\n",
    "while True:\n",
    "    print(ws.recv())"
   ]
  },
  {
   "cell_type": "code",
   "execution_count": null,
   "metadata": {},
   "outputs": [],
   "source": []
  }
 ],
 "metadata": {
  "kernelspec": {
   "display_name": "Python 3",
   "language": "python",
   "name": "python3"
  },
  "language_info": {
   "codemirror_mode": {
    "name": "ipython",
    "version": 3
   },
   "file_extension": ".py",
   "mimetype": "text/x-python",
   "name": "python",
   "nbconvert_exporter": "python",
   "pygments_lexer": "ipython3",
   "version": "3.7.4"
  }
 },
 "nbformat": 4,
 "nbformat_minor": 4
}
