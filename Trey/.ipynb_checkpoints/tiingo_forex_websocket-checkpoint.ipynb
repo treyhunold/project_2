{
 "cells": [
  {
   "cell_type": "markdown",
   "metadata": {},
   "source": [
    "# Tiingo Forex Websocket "
   ]
  },
  {
   "cell_type": "code",
   "execution_count": 6,
   "metadata": {},
   "outputs": [],
   "source": [
    "#Websocket Top-of-Book Endpoint\n",
    "#wss://api.tiingo.com/fx"
   ]
  },
  {
   "cell_type": "markdown",
   "metadata": {},
   "source": [
    "## Install websocket_client library\n",
    "### !pip install websocket_client"
   ]
  },
  {
   "cell_type": "markdown",
   "metadata": {},
   "source": [
    "## Install simplejson\n",
    "### !pip install simplejson"
   ]
  },
  {
   "cell_type": "code",
   "execution_count": 13,
   "metadata": {},
   "outputs": [],
   "source": [
    "#Import libraries\n",
    "\n",
    "from websocket import create_connection\n",
    "import simplejson as json"
   ]
  },
  {
   "cell_type": "code",
   "execution_count": null,
   "metadata": {},
   "outputs": [],
   "source": [
    "#Testing Forex websocket\n",
    "\n",
    "ws = create_connection(\"wss://api.tiingo.com/fx\")\n",
    "\n",
    "subscribe = {\n",
    "        'authorization':'0373a7d102cbf2319f33d357a27213c1726c6fa1',\n",
    "        'eventData': {\n",
    "            'thresholdLevel': 5\n",
    "    }\n",
    "}\n",
    "\n",
    "ws.send(json.dumps(subscribe))\n",
    "while True:\n",
    "    print(ws.recv())"
   ]
  },
  {
   "cell_type": "code",
   "execution_count": null,
   "metadata": {},
   "outputs": [],
   "source": [
    "##Testing WebSocket\n",
    "\n",
    "wsss = create_connection(\"wss://api.tiingo.com/test\")\n",
    "\n",
    "subscribe = {\n",
    "                'eventName':'subscribe',\n",
    "                'eventData': {\n",
    "                            'authToken': '0373a7d102cbf2319f33d357a27213c1726c6fa1'\n",
    "                            }\n",
    "                }\n",
    "\n",
    "wsss.send(json.dumps(subscribe))\n",
    "while True:\n",
    "    print(wsss.recv())\n",
    " "
   ]
  },
  {
   "cell_type": "code",
   "execution_count": null,
   "metadata": {},
   "outputs": [],
   "source": []
  }
 ],
 "metadata": {
  "kernelspec": {
   "display_name": "Python 3",
   "language": "python",
   "name": "python3"
  },
  "language_info": {
   "codemirror_mode": {
    "name": "ipython",
    "version": 3
   },
   "file_extension": ".py",
   "mimetype": "text/x-python",
   "name": "python",
   "nbconvert_exporter": "python",
   "pygments_lexer": "ipython3",
   "version": "3.7.4"
  }
 },
 "nbformat": 4,
 "nbformat_minor": 4
}
