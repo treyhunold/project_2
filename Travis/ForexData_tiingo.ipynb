{
 "cells": [
  {
   "cell_type": "code",
   "execution_count": 18,
   "metadata": {},
   "outputs": [],
   "source": [
    "import requests\n",
    "import pandas as pd\n",
    "from tiingo import TiingoClient"
   ]
  },
  {
   "cell_type": "code",
   "execution_count": 37,
   "metadata": {
    "scrolled": true
   },
   "outputs": [],
   "source": [
    "#  establish API connection and import ticket data\n",
    "headers = {\n",
    "    'Content-Type': 'application/json'\n",
    "}\n",
    "requestResponse = requests.get(\"https://api.tiingo.com/tiingo/fx/eurusd/prices?startDate=2020-01-30&endDate=2020-04-03&resampleFreq=1min&token=0373a7d102cbf2319f33d357a27213c1726c6fa1\", headers=headers)\n",
    "# print(requestResponse.json())"
   ]
  },
  {
   "cell_type": "code",
   "execution_count": 38,
   "metadata": {},
   "outputs": [],
   "source": [
    "forex = pd.DataFrame({\n",
    "                    'date':[x['date'] for x in requestResponse.json()],\n",
    "                    'ticker':[x['ticker']for x in requestResponse.json()],\n",
    "                    'open':[x['open'] for x in requestResponse.json()],\n",
    "                    'high':[x['high'] for x in requestResponse.json()],\n",
    "                    'low':[x['low'] for x in requestResponse.json()],\n",
    "                    'close':[x['close'] for x in requestResponse.json()]\n",
    "                        })"
   ]
  },
  {
   "cell_type": "code",
   "execution_count": 39,
   "metadata": {},
   "outputs": [],
   "source": [
    "forex = forex.set_index('date')"
   ]
  },
  {
   "cell_type": "code",
   "execution_count": 40,
   "metadata": {},
   "outputs": [],
   "source": [
    "forex.index = pd.to_datetime(forex.index)"
   ]
  },
  {
   "cell_type": "code",
   "execution_count": 41,
   "metadata": {},
   "outputs": [
    {
     "data": {
      "text/html": [
       "<div>\n",
       "<style scoped>\n",
       "    .dataframe tbody tr th:only-of-type {\n",
       "        vertical-align: middle;\n",
       "    }\n",
       "\n",
       "    .dataframe tbody tr th {\n",
       "        vertical-align: top;\n",
       "    }\n",
       "\n",
       "    .dataframe thead th {\n",
       "        text-align: right;\n",
       "    }\n",
       "</style>\n",
       "<table border=\"1\" class=\"dataframe\">\n",
       "  <thead>\n",
       "    <tr style=\"text-align: right;\">\n",
       "      <th></th>\n",
       "      <th>ticker</th>\n",
       "      <th>open</th>\n",
       "      <th>high</th>\n",
       "      <th>low</th>\n",
       "      <th>close</th>\n",
       "    </tr>\n",
       "    <tr>\n",
       "      <th>date</th>\n",
       "      <th></th>\n",
       "      <th></th>\n",
       "      <th></th>\n",
       "      <th></th>\n",
       "      <th></th>\n",
       "    </tr>\n",
       "  </thead>\n",
       "  <tbody>\n",
       "    <tr>\n",
       "      <th>2020-01-31 21:55:00+00:00</th>\n",
       "      <td>eurusd</td>\n",
       "      <td>1.110475</td>\n",
       "      <td>1.110485</td>\n",
       "      <td>1.11046</td>\n",
       "      <td>1.110485</td>\n",
       "    </tr>\n",
       "    <tr>\n",
       "      <th>2020-01-31 21:56:00+00:00</th>\n",
       "      <td>eurusd</td>\n",
       "      <td>1.110485</td>\n",
       "      <td>1.110485</td>\n",
       "      <td>1.11046</td>\n",
       "      <td>1.110485</td>\n",
       "    </tr>\n",
       "    <tr>\n",
       "      <th>2020-01-31 21:57:00+00:00</th>\n",
       "      <td>eurusd</td>\n",
       "      <td>1.110485</td>\n",
       "      <td>1.110485</td>\n",
       "      <td>1.11046</td>\n",
       "      <td>1.110485</td>\n",
       "    </tr>\n",
       "    <tr>\n",
       "      <th>2020-01-31 21:58:00+00:00</th>\n",
       "      <td>eurusd</td>\n",
       "      <td>1.110485</td>\n",
       "      <td>1.110485</td>\n",
       "      <td>1.11044</td>\n",
       "      <td>1.110480</td>\n",
       "    </tr>\n",
       "    <tr>\n",
       "      <th>2020-01-31 21:59:00+00:00</th>\n",
       "      <td>eurusd</td>\n",
       "      <td>1.110480</td>\n",
       "      <td>1.110480</td>\n",
       "      <td>1.11045</td>\n",
       "      <td>1.110460</td>\n",
       "    </tr>\n",
       "  </tbody>\n",
       "</table>\n",
       "</div>"
      ],
      "text/plain": [
       "                           ticker      open      high      low     close\n",
       "date                                                                    \n",
       "2020-01-31 21:55:00+00:00  eurusd  1.110475  1.110485  1.11046  1.110485\n",
       "2020-01-31 21:56:00+00:00  eurusd  1.110485  1.110485  1.11046  1.110485\n",
       "2020-01-31 21:57:00+00:00  eurusd  1.110485  1.110485  1.11046  1.110485\n",
       "2020-01-31 21:58:00+00:00  eurusd  1.110485  1.110485  1.11044  1.110480\n",
       "2020-01-31 21:59:00+00:00  eurusd  1.110480  1.110480  1.11045  1.110460"
      ]
     },
     "execution_count": 41,
     "metadata": {},
     "output_type": "execute_result"
    }
   ],
   "source": [
    "# forex.head()\n",
    "forex.tail()"
   ]
  },
  {
   "cell_type": "code",
   "execution_count": 7,
   "metadata": {},
   "outputs": [],
   "source": [
    "forex.to_csv('ForexData.csv')"
   ]
  },
  {
   "cell_type": "code",
   "execution_count": 17,
   "metadata": {},
   "outputs": [],
   "source": [
    "# !pip install tiingo\n",
    "# !pip install tiingo[pandas]"
   ]
  },
  {
   "cell_type": "code",
   "execution_count": null,
   "metadata": {},
   "outputs": [],
   "source": []
  }
 ],
 "metadata": {
  "kernelspec": {
   "display_name": "Python 3",
   "language": "python",
   "name": "python3"
  },
  "language_info": {
   "codemirror_mode": {
    "name": "ipython",
    "version": 3
   },
   "file_extension": ".py",
   "mimetype": "text/x-python",
   "name": "python",
   "nbconvert_exporter": "python",
   "pygments_lexer": "ipython3",
   "version": "3.7.7"
  }
 },
 "nbformat": 4,
 "nbformat_minor": 4
}
